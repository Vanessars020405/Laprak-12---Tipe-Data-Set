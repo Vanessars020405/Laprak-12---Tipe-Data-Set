{
 "cells": [
  {
   "cell_type": "code",
   "execution_count": 24,
   "metadata": {},
   "outputs": [
    {
     "name": "stdout",
     "output_type": "stream",
     "text": [
      "Masukkan 5 nama aplikasi di kategori Finance\n",
      "Masukkan 5 nama aplikasi di kategori Utilities\n",
      "Masukkan 5 nama aplikasi di kategori Social\n",
      "{'Finance': ['RTI Saham', 'Mirae', 'IPOT', 'Poems', 'Calculator'], 'Utilities': ['Photos', 'Weather', 'Calculator', 'Camera', 'Notes'], 'Social': ['Facebook', 'Instagram', 'Whatsapp', 'Twitter', 'Tiktok']}\n",
      "[{'Mirae', 'IPOT', 'Calculator', 'RTI Saham', 'Poems'}, {'Notes', 'Photos', 'Calculator', 'Camera', 'Weather'}, {'Instagram', 'Whatsapp', 'Tiktok', 'Twitter', 'Facebook'}]\n",
      "Aplikasi yang muncul di semua kategori: set()\n",
      "{'Notes', 'Whatsapp', 'Tiktok', 'Twitter', 'Camera', 'Instagram', 'Photos', 'Facebook', 'Weather'}\n",
      "Aplikasi yang hanya muncul di satu kategori saja: {'Notes', 'Whatsapp', 'Tiktok', 'Twitter', 'Camera', 'Instagram', 'Photos', 'Facebook', 'Weather'}\n",
      "Aplikasi yang muncul tepat di dua kategori: {'Calculator'}\n"
     ]
    }
   ],
   "source": [
    "#Nomor 1\n",
    "n = int(input('Masukkan jumlah kategori: '))\n",
    "data_aplikasi = {}\n",
    "\n",
    "for i in range(n):\n",
    "    nama_kategori = input('Masukkan nama kategori: ')\n",
    "    print('Masukkan 5 nama aplikasi di kategori', nama_kategori)\n",
    "    \n",
    "    aplikasi = []\n",
    "    for j in range(5):\n",
    "        nama_aplikasi = input('Nama aplikasi: ')\n",
    "        aplikasi.append(nama_aplikasi)\n",
    "    \n",
    "    data_aplikasi[nama_kategori] = aplikasi\n",
    "\n",
    "print(data_aplikasi)\n",
    "\n",
    "daftar_aplikasi_list = []\n",
    "\n",
    "for aplikasi in data_aplikasi.values():\n",
    "    daftar_aplikasi_list.append(set(aplikasi))\n",
    "\n",
    "print(daftar_aplikasi_list)\n",
    "\n",
    "if daftar_aplikasi_list:\n",
    "    hasil = daftar_aplikasi_list[0]\n",
    "    for i in range(1, len(daftar_aplikasi_list)):\n",
    "        hasil = hasil.intersection(daftar_aplikasi_list[i])\n",
    "    print(\"Aplikasi yang muncul di semua kategori:\", hasil)\n",
    "else:\n",
    "    print(\"Tidak ada kategori yang dimasukkan.\")\n",
    "\n",
    "hasil = daftar_aplikasi_list[0]\n",
    "for i in range(1, len(daftar_aplikasi_list)):\n",
    "    hasil = hasil^daftar_aplikasi_list[i]\n",
    "\n",
    "app = daftar_aplikasi_list[0]\n",
    "for i in range(1,len(daftar_aplikasi_list)):\n",
    "    app.update(app &daftar_aplikasi_list[i])\n",
    "for i in app:\n",
    "    if i in hasil:\n",
    "        hasil.remove(i)\n",
    "print(hasil)\n",
    "\n",
    "print(\"Aplikasi yang hanya muncul di satu kategori saja:\", hasil)\n",
    "\n",
    "app = list()\n",
    "dua_kat=set()\n",
    "\n",
    "if n > 2:\n",
    "    for i in data_aplikasi.values():\n",
    "        app+=i\n",
    "    for i in app:\n",
    "        if app.count(i)==2:\n",
    "            dua_kat.add(i)\n",
    "    print(\"Aplikasi yang muncul tepat di dua kategori:\", dua_kat)\n",
    "\n",
    "\n"
   ]
  },
  {
   "cell_type": "code",
   "execution_count": 18,
   "metadata": {},
   "outputs": [
    {
     "name": "stdout",
     "output_type": "stream",
     "text": [
      "list sebelum di konversi : [5, 6, 6, 7, 8, 8, 9]\n",
      "list setelah di konversi menjadi set: {5, 6, 7, 8, 9}\n",
      "set sebelum di konversi : {5, 6, 7, 8, 9}\n",
      "set setelah di konversi menjadi list : {5, 6, 7, 8, 9}\n",
      "tuple sebelum di konversi : [5, 6, 6, 7, 8, 8, 9]\n",
      "tuple setelah di konversi menjadi set: {5, 6, 7, 8, 9}\n",
      "set sebelum di konversi : {5, 6, 7, 8, 9}\n",
      "set setelah di konversi menjadi tuple : (5, 6, 7, 8, 9)\n"
     ]
    }
   ],
   "source": [
    "#Nomor 2\n",
    "def demonstrasi():\n",
    "    list1 = [5, 6, 6, 7, 8, 8, 9]\n",
    "    print(f'list sebelum di konversi : {list1}')\n",
    "    list_ke_set = set(list1)\n",
    "    print(f'list setelah di konversi menjadi set: {list_ke_set}')\n",
    "    print(f'set sebelum di konversi : {list_ke_set}')\n",
    "    set_ke_list = set(list_ke_set)\n",
    "    print(f'set setelah di konversi menjadi list : {set_ke_list}')\n",
    "\n",
    "    tuple1 = [5, 6, 6, 7, 8, 8, 9]\n",
    "    print(f\"tuple sebelum di konversi : {tuple1}\")\n",
    "    tuple_ke_set = set(tuple1)\n",
    "    print(f\"tuple setelah di konversi menjadi set: {tuple_ke_set}\")\n",
    "    print(f'set sebelum di konversi : {tuple_ke_set}')\n",
    "    set_ke_tuple = tuple(tuple_ke_set)\n",
    "    print(f\"set setelah di konversi menjadi tuple : {set_ke_tuple}\")\n",
    "\n",
    "demonstrasi()"
   ]
  },
  {
   "cell_type": "code",
   "execution_count": 19,
   "metadata": {},
   "outputs": [
    {
     "name": "stdout",
     "output_type": "stream",
     "text": [
      "kata - kata yang sama adalah: \n",
      "already\n",
      "and\n",
      "but\n",
      "envious\n",
      "fair\n",
      "is\n",
      "it\n",
      "juliet\n",
      "kill\n",
      "light\n",
      "moon\n",
      "pale\n",
      "sick\n",
      "the\n",
      "through\n",
      "what\n",
      "who\n",
      "window\n",
      "with\n",
      "yonder\n"
     ]
    }
   ],
   "source": [
    "#Nomor 3\n",
    "def bacafile(namafile):\n",
    "    try:\n",
    "        with open(namafile, 'r', encoding='UTF-8') as file:\n",
    "            return file.read().lower().split()\n",
    "    except FileNotFoundError:\n",
    "        print(f\"error\")\n",
    "        return[]\n",
    "\n",
    "def main():\n",
    "    file1 = input('masukan file kesatu = ')\n",
    "    file2 = input('masukan file kedua = ')\n",
    "    baca_file1 = bacafile(file1)\n",
    "    baca_file2 = bacafile(file2)\n",
    "    kata_yang_sama = set(baca_file1) & (set(baca_file2))\n",
    "\n",
    "    if kata_yang_sama:\n",
    "        print (\"kata - kata yang sama adalah: \")\n",
    "        for i in sorted(kata_yang_sama):\n",
    "            print(i)\n",
    "    else:\n",
    "        ('tidak ada kata yang sama')\n",
    "\n",
    "if __name__ == '__main__':\n",
    "    main()"
   ]
  }
 ],
 "metadata": {
  "kernelspec": {
   "display_name": "Python 3",
   "language": "python",
   "name": "python3"
  },
  "language_info": {
   "codemirror_mode": {
    "name": "ipython",
    "version": 3
   },
   "file_extension": ".py",
   "mimetype": "text/x-python",
   "name": "python",
   "nbconvert_exporter": "python",
   "pygments_lexer": "ipython3",
   "version": "3.12.0"
  }
 },
 "nbformat": 4,
 "nbformat_minor": 2
}
